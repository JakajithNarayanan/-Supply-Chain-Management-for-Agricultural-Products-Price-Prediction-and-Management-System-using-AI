{
 "cells": [
  {
   "cell_type": "code",
   "execution_count": 1,
   "metadata": {},
   "outputs": [],
   "source": [
    "import pandas as pd\n",
    "from sklearn.ensemble import RandomForestRegressor\n",
    "from sklearn.model_selection import train_test_split\n",
    "import joblib\n",
    "\n",
    "# Define the path to your dataset\n",
    "file_path = r\"E:\\ML projects\\GOAT MAH\\Vegetable and Fruits Prices in India.csv\"\n",
    "\n",
    "def train_model():\n",
    "    # Load and prepare data\n",
    "    data = pd.read_csv(file_path)\n",
    "    X = data[['Item_Name', 'City']]  # Features\n",
    "    y = data['Price']  # Target\n",
    "    \n",
    "    # Convert categorical data to numeric\n",
    "    X = pd.get_dummies(X, drop_first=True)\n",
    "\n",
    "    # Train-test split\n",
    "    X_train, X_test, y_train, y_test = train_test_split(X, y, test_size=0.2, random_state=42)\n",
    "\n",
    "    # Model training with RandomForest\n",
    "    model = RandomForestRegressor(n_estimators=100, random_state=42)\n",
    "    model.fit(X_train, y_train)\n",
    "    \n",
    "    # Save the model\n",
    "    joblib.dump(model, 'price_predictor_model.pkl')\n",
    "\n",
    "# Uncomment to train the model initially\n",
    "# train_model()\n"
   ]
  }
 ],
 "metadata": {
  "kernelspec": {
   "display_name": "Python 3",
   "language": "python",
   "name": "python3"
  },
  "language_info": {
   "codemirror_mode": {
    "name": "ipython",
    "version": 3
   },
   "file_extension": ".py",
   "mimetype": "text/x-python",
   "name": "python",
   "nbconvert_exporter": "python",
   "pygments_lexer": "ipython3",
   "version": "3.12.5"
  }
 },
 "nbformat": 4,
 "nbformat_minor": 2
}
